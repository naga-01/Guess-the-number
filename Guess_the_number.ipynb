{
 "cells": [
  {
   "cell_type": "code",
   "execution_count": 2,
   "metadata": {},
   "outputs": [
    {
     "name": "stdout",
     "output_type": "stream",
     "text": [
      "***Guess the Number***\n",
      "You have 5 chances\n",
      "Guess the number from 1 to 20:9\n",
      "Lesser than Number!!\n",
      "\n",
      "\n",
      "You have 4 chances\n",
      "Guess the number from 1 to 20:13\n",
      "Lesser than Number!!\n",
      "\n",
      "\n",
      "You have 3 chances\n",
      "Guess the number from 1 to 20:15\n",
      "Lesser than Number!!\n",
      "\n",
      "\n",
      "You have 2 chances\n",
      "Guess the number from 1 to 20:18\n",
      "Lesser than Number!!\n",
      "\n",
      "\n",
      "You have 1 chances\n",
      "Guess the number from 1 to 20:19\n",
      "Correct!!!\n",
      "5 chances are over.....You lost\n"
     ]
    }
   ],
   "source": [
    "import random\n",
    "num = random.randint(1,20)\n",
    "print(\"***Guess the Number***\")\n",
    "i=0\n",
    "while(i<5):\n",
    "    print(f\"You have {5 - i} chances\")\n",
    "    guess = int(input(\"Guess the number from 1 to 20:\"))\n",
    "    if(guess==num):\n",
    "        print(\"Correct!!!\")\n",
    "        break;\n",
    "    elif guess>num:\n",
    "        print(\"Greater than Number!!\\n\\n\")\n",
    "        i+=1\n",
    "    else:\n",
    "        print(\"Lesser than Number!!\\n\\n\")\n",
    "        i+=1\n",
    "print(\"5 chances are over.....You lost\")"
   ]
  },
  {
   "cell_type": "code",
   "execution_count": null,
   "metadata": {},
   "outputs": [],
   "source": []
  },
  {
   "cell_type": "code",
   "execution_count": null,
   "metadata": {},
   "outputs": [],
   "source": []
  },
  {
   "cell_type": "code",
   "execution_count": null,
   "metadata": {},
   "outputs": [],
   "source": []
  },
  {
   "cell_type": "code",
   "execution_count": null,
   "metadata": {},
   "outputs": [],
   "source": []
  },
  {
   "cell_type": "code",
   "execution_count": null,
   "metadata": {},
   "outputs": [],
   "source": []
  }
 ],
 "metadata": {
  "kernelspec": {
   "display_name": "Python 3",
   "language": "python",
   "name": "python3"
  },
  "language_info": {
   "codemirror_mode": {
    "name": "ipython",
    "version": 3
   },
   "file_extension": ".py",
   "mimetype": "text/x-python",
   "name": "python",
   "nbconvert_exporter": "python",
   "pygments_lexer": "ipython3",
   "version": "3.7.1"
  }
 },
 "nbformat": 4,
 "nbformat_minor": 2
}
